{
  "nbformat": 4,
  "nbformat_minor": 0,
  "metadata": {
    "colab": {
      "provenance": [],
      "mount_file_id": "1XVuscRqDjsmfDcqHvxCl5nxm5MV7nWmb",
      "authorship_tag": "ABX9TyOcHD5xBL4xlaXC+gppwuK1",
      "include_colab_link": true
    },
    "kernelspec": {
      "name": "python3",
      "display_name": "Python 3"
    },
    "language_info": {
      "name": "python"
    }
  },
  "cells": [
    {
      "cell_type": "markdown",
      "metadata": {
        "id": "view-in-github",
        "colab_type": "text"
      },
      "source": [
        "<a href=\"https://colab.research.google.com/github/nakajitara/kookaon/blob/main/kookaon_use_model.ipynb\" target=\"_parent\"><img src=\"https://colab.research.google.com/assets/colab-badge.svg\" alt=\"Open In Colab\"/></a>"
      ]
    },
    {
      "cell_type": "markdown",
      "source": [
        "how to use the kookaon model"
      ],
      "metadata": {
        "id": "adwK2dSw3pxI"
      }
    },
    {
      "cell_type": "code",
      "source": [
        "#Dependencia para cargar el modelo\n",
        "import joblib\n",
        "#Dependencia para manejar los datos\n",
        "import pandas as pd"
      ],
      "metadata": {
        "id": "sz0gBc0x3pO7"
      },
      "execution_count": 5,
      "outputs": []
    },
    {
      "cell_type": "markdown",
      "source": [
        "#Cargar el modelo"
      ],
      "metadata": {
        "id": "o-h1OP3E0gPM"
      }
    },
    {
      "cell_type": "code",
      "source": [
        "#Cargar el modelo.\n",
        "kookaon_saved=joblib.load('/content/drive/MyDrive/Colab Notebooks/kookaon/model/kookaon.pkl')"
      ],
      "metadata": {
        "id": "N239sA8o8wG4"
      },
      "execution_count": 4,
      "outputs": []
    },
    {
      "cell_type": "markdown",
      "metadata": {
        "id": "tpi5LwmZ_Gcr"
      },
      "source": [
        "##Predicción con el modelo definitivo"
      ]
    },
    {
      "cell_type": "code",
      "source": [
        "#funcion para insertar un numero float desde teclado dentro de un rango\n",
        "def get_float_between_range(minor,mayor):\n",
        "  while True:\n",
        "    try:\n",
        "      value = float(input(\"Enter a float between 0 and 1: \"))\n",
        "      if minor <= value <= mayor:\n",
        "        return value\n",
        "      else:\n",
        "        print(\"Value must be between 0 and 1.0\")\n",
        "    except ValueError:\n",
        "      print(\"Invalid input. Please enter a float value.\")\n",
        "#función para insertar datos enteros desde teclado dentro de un rango\n",
        "def get_int_between_range(menor,mayor):\n",
        "  while True:\n",
        "    try:\n",
        "      value = int(input(\"Enter an integer between 0 and 100: \"))\n",
        "      if menor <= value <= mayor:\n",
        "        return value\n",
        "      else:\n",
        "        print(\"Value must be between 0 and 100\")\n",
        "    except ValueError:\n",
        "      print(\"Invalid input. Please enter an integer value.\")"
      ],
      "metadata": {
        "id": "EIr6J45rl3Sb"
      },
      "execution_count": 6,
      "outputs": []
    },
    {
      "cell_type": "code",
      "source": [
        "print('how danceable is your music (float from 0 to 1.0)')\n",
        "dandanceability=get_float_between_range(0.0,1.0)\n",
        "print('how instrumental is your music (float from 0 to 1.0)')\n",
        "instrumentalness=get_float_between_range(0.0,1.0)\n",
        "print('how acoustic your music is (from 0.0 for more acoustic music to 1.0 for electronic or distorted music) ')\n",
        "acousticness=get_float_between_range(0.0,1.0)\n",
        "print('how loud your music is in decibels (float from 0.0 to 120.0)')\n",
        "loudness=get_float_between_range(0.0,120.0)-60\n",
        "print('how happy your music is (from 0.0 for sadder music to 1.0 for happier music) ')\n",
        "valence=get_float_between_range(0.0,1.0)\n",
        "print('how many tempo in BPM your music has (integer from 20 to 250)')\n",
        "tempo=get_int_between_range(20,250)\n",
        "print('how much lyrics your song has (float from 0.0 intrumental to 1.0 acapella)')\n",
        "speechiness=get_float_between_range(0,1.0)\n",
        "print('how many measures from 3/4 to 7/4 your music has (integer from 3 to 7)')\n",
        "time_signature=get_int_between_range(0,4)\n",
        "print('your song is more studio or live (float from 0.0 to 1.0)')\n",
        "liveness=get_float_between_range(0,1.0)"
      ],
      "metadata": {
        "colab": {
          "base_uri": "https://localhost:8080/"
        },
        "id": "ZwgJRvEc4QfO",
        "outputId": "c9c35ec8-1e8b-4a54-a9cd-9196cbd62a0d"
      },
      "execution_count": 7,
      "outputs": [
        {
          "name": "stdout",
          "output_type": "stream",
          "text": [
            "how danceable is your music (float from 0 to 1.0)\n",
            "Enter a float between 0 and 1: 0.01\n",
            "how instrumental is your music (float from 0 to 1.0)\n",
            "Enter a float between 0 and 1: 0.97\n",
            "how acoustic your music is (from 0.0 for more acoustic music to 1.0 for electronic or distorted music) \n",
            "Enter a float between 0 and 1: 0.8\n",
            "how loud your music is in decibels (float from 0.0 to 120.0)\n",
            "Enter a float between 0 and 1: 45\n",
            "how happy your music is (from 0.0 for sadder music to 1.0 for happier music) \n",
            "Enter a float between 0 and 1: 0.55\n",
            "how many tempo in BPM your music has (integer from 20 to 250)\n",
            "Enter an integer between 0 and 100: 114\n",
            "how much lyrics your song has (float from 0.0 intrumental to 1.0 acapella)\n",
            "Enter a float between 0 and 1: 0.0\n",
            "how many measures from 3/4 to 7/4 your music has (integer from 3 to 7)\n",
            "Enter an integer between 0 and 100: 4\n",
            "your song is more studio or live (float from 0.0 to 1.0)\n",
            "Enter a float between 0 and 1: 0.0\n"
          ]
        }
      ]
    },
    {
      "cell_type": "code",
      "execution_count": 10,
      "metadata": {
        "colab": {
          "base_uri": "https://localhost:8080/"
        },
        "id": "1Pr0UoRZ_g8q",
        "outputId": "d8e89017-02b0-4f59-b02f-75a4f88d56f9"
      },
      "outputs": [
        {
          "output_type": "stream",
          "name": "stdout",
          "text": [
            "Predicción para la canción: [0.37505505]\n"
          ]
        }
      ],
      "source": [
        "#diccionario con los imputs\n",
        "model_imput={\n",
        "    'danceability':dandanceability,\n",
        "    'instrumentalness':instrumentalness,\n",
        "    'acousticness':acousticness,\n",
        "    'loudness':loudness,\n",
        "    'valence':valence,\n",
        "    'tempo':tempo,\n",
        "    'speechiness':speechiness,\n",
        "    'time_signature':time_signature,\n",
        "    'liveness':liveness}\n",
        "#Convertir el diccionario en un DataFrame\n",
        "song_df=pd.DataFrame([model_imput])\n",
        "#Realizar predicción para la canción\n",
        "prediction=kookaon_saved.predict(song_df)\n",
        "#mostrar las predicción\n",
        "print('Predicción para la canción:',prediction)"
      ]
    }
  ]
}